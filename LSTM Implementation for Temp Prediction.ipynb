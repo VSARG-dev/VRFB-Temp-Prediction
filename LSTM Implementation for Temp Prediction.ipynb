{
 "cells": [
  {
   "cell_type": "code",
   "execution_count": 5,
   "id": "5677a56c",
   "metadata": {},
   "outputs": [],
   "source": [
    "import numpy as np\n",
    "import pandas as pd\n",
    "import matplotlib.pyplot as plt\n",
    "%matplotlib inline\n",
    "from matplotlib import cm\n",
    "from tqdm.auto import tqdm\n",
    "\n",
    "from sklearn.preprocessing import MinMaxScaler\n",
    "from keras.preprocessing.sequence import TimeseriesGenerator\n",
    "from keras.models import Sequential\n",
    "from keras.layers import Dense\n",
    "from keras.layers import LSTM\n",
    "\n",
    "from sklearn.linear_model import LinearRegression\n",
    "from sklearn.model_selection import train_test_split"
   ]
  },
  {
   "cell_type": "code",
   "execution_count": 6,
   "id": "bf188e86",
   "metadata": {},
   "outputs": [],
   "source": [
    "df1 = pd.read_csv('/home/vsarg/Downloads/Ankur Formal Project/Datasets/5a_40A.csv')\n",
    "df2 = pd.read_csv('/home/vsarg/Downloads/Ankur Formal Project/Datasets/5a_45A.csv')\n",
    "df3 = pd.read_csv('/home/vsarg/Downloads/Ankur Formal Project/Datasets/5a_50A.csv')\n",
    "df4 = pd.read_csv('/home/vsarg/Downloads/Ankur Formal Project/Datasets/5a_60A.csv')\n",
    "df5 = pd.read_csv('/home/vsarg/Downloads/Ankur Formal Project/Datasets/5b_40A.csv', header = None)\n",
    "df6 = pd.read_csv('/home/vsarg/Downloads/Ankur Formal Project/Datasets/5b_45A.csv', header = None)\n",
    "df7 = pd.read_csv('/home/vsarg/Downloads/Ankur Formal Project/Datasets/5b_50A.csv', header = None)\n",
    "df8 = pd.read_csv('/home/vsarg/Downloads/Ankur Formal Project/Datasets/5b_60A.csv', header = None)\n",
    "\n",
    "df5.columns = df1.columns\n",
    "df6.columns = df1.columns\n",
    "df7.columns = df1.columns\n",
    "df8.columns = df1.columns"
   ]
  },
  {
   "cell_type": "code",
   "execution_count": 241,
   "id": "b1ed1800",
   "metadata": {},
   "outputs": [
    {
     "data": {
      "text/html": [
       "<div>\n",
       "<style scoped>\n",
       "    .dataframe tbody tr th:only-of-type {\n",
       "        vertical-align: middle;\n",
       "    }\n",
       "\n",
       "    .dataframe tbody tr th {\n",
       "        vertical-align: top;\n",
       "    }\n",
       "\n",
       "    .dataframe thead th {\n",
       "        text-align: right;\n",
       "    }\n",
       "</style>\n",
       "<table border=\"1\" class=\"dataframe\">\n",
       "  <thead>\n",
       "    <tr style=\"text-align: right;\">\n",
       "      <th></th>\n",
       "      <th>Hours</th>\n",
       "      <th>Temperature</th>\n",
       "    </tr>\n",
       "  </thead>\n",
       "  <tbody>\n",
       "    <tr>\n",
       "      <th>0</th>\n",
       "      <td>-0.007279</td>\n",
       "      <td>15.630807</td>\n",
       "    </tr>\n",
       "    <tr>\n",
       "      <th>1</th>\n",
       "      <td>0.007335</td>\n",
       "      <td>15.689042</td>\n",
       "    </tr>\n",
       "    <tr>\n",
       "      <th>2</th>\n",
       "      <td>0.007335</td>\n",
       "      <td>15.630807</td>\n",
       "    </tr>\n",
       "    <tr>\n",
       "      <th>3</th>\n",
       "      <td>0.014642</td>\n",
       "      <td>15.630807</td>\n",
       "    </tr>\n",
       "    <tr>\n",
       "      <th>4</th>\n",
       "      <td>0.014642</td>\n",
       "      <td>15.572572</td>\n",
       "    </tr>\n",
       "    <tr>\n",
       "      <th>...</th>\n",
       "      <td>...</td>\n",
       "      <td>...</td>\n",
       "    </tr>\n",
       "    <tr>\n",
       "      <th>6713</th>\n",
       "      <td>2.944779</td>\n",
       "      <td>47.019560</td>\n",
       "    </tr>\n",
       "    <tr>\n",
       "      <th>6714</th>\n",
       "      <td>2.944779</td>\n",
       "      <td>46.961325</td>\n",
       "    </tr>\n",
       "    <tr>\n",
       "      <th>6715</th>\n",
       "      <td>2.944779</td>\n",
       "      <td>46.903090</td>\n",
       "    </tr>\n",
       "    <tr>\n",
       "      <th>6716</th>\n",
       "      <td>2.952086</td>\n",
       "      <td>47.019560</td>\n",
       "    </tr>\n",
       "    <tr>\n",
       "      <th>6717</th>\n",
       "      <td>2.952086</td>\n",
       "      <td>46.961325</td>\n",
       "    </tr>\n",
       "  </tbody>\n",
       "</table>\n",
       "<p>6718 rows × 2 columns</p>\n",
       "</div>"
      ],
      "text/plain": [
       "         Hours  Temperature\n",
       "0    -0.007279    15.630807\n",
       "1     0.007335    15.689042\n",
       "2     0.007335    15.630807\n",
       "3     0.014642    15.630807\n",
       "4     0.014642    15.572572\n",
       "...        ...          ...\n",
       "6713  2.944779    47.019560\n",
       "6714  2.944779    46.961325\n",
       "6715  2.944779    46.903090\n",
       "6716  2.952086    47.019560\n",
       "6717  2.952086    46.961325\n",
       "\n",
       "[6718 rows x 2 columns]"
      ]
     },
     "execution_count": 241,
     "metadata": {},
     "output_type": "execute_result"
    }
   ],
   "source": [
    "df8"
   ]
  },
  {
   "cell_type": "code",
   "execution_count": 242,
   "id": "aed0dedc",
   "metadata": {},
   "outputs": [],
   "source": [
    "X = df8['Hours']\n",
    "y = df8['Temperature']\n",
    "\n",
    "X_train, X_test, y_train, y_test = train_test_split(X, y, random_state=104, test_size=0.3, shuffle=False)"
   ]
  },
  {
   "cell_type": "code",
   "execution_count": 243,
   "id": "8258d608",
   "metadata": {},
   "outputs": [
    {
     "data": {
      "text/plain": [
       "array([[15.63080685],\n",
       "       [15.68904201],\n",
       "       [15.63080685],\n",
       "       ...,\n",
       "       [45.73838631],\n",
       "       [45.68015114],\n",
       "       [45.62191598]])"
      ]
     },
     "execution_count": 243,
     "metadata": {},
     "output_type": "execute_result"
    }
   ],
   "source": [
    "y_train.to_numpy().reshape(-1, 1)"
   ]
  },
  {
   "cell_type": "code",
   "execution_count": 244,
   "id": "017545be",
   "metadata": {},
   "outputs": [
    {
     "data": {
      "text/plain": [
       "array([[0.02578269],\n",
       "       [0.02762431],\n",
       "       [0.02578269],\n",
       "       [0.02578269],\n",
       "       [0.02394107],\n",
       "       [0.01289134],\n",
       "       [0.01104972],\n",
       "       [0.02578269],\n",
       "       [0.02394107],\n",
       "       [0.02209945]])"
      ]
     },
     "execution_count": 244,
     "metadata": {},
     "output_type": "execute_result"
    }
   ],
   "source": [
    "scaler = MinMaxScaler()\n",
    "scaler.fit(y_train.to_numpy().reshape(-1, 1))\n",
    "scaled_train = scaler.transform(y_train.to_numpy().reshape(-1, 1))\n",
    "scaled_test = scaler.transform(y_test.to_numpy().reshape(-1, 1))\n",
    "scaled_y = scaler.transform(y.to_numpy().reshape(-1, 1))\n",
    "\n",
    "scaled_train[:10]"
   ]
  },
  {
   "cell_type": "code",
   "execution_count": 245,
   "id": "7b297273",
   "metadata": {},
   "outputs": [
    {
     "data": {
      "text/plain": [
       "[<matplotlib.lines.Line2D at 0x7f3aec3ebfd0>]"
      ]
     },
     "execution_count": 245,
     "metadata": {},
     "output_type": "execute_result"
    },
    {
     "data": {
      "image/png": "[encoded data removed]",
      "text/plain": [
       "<Figure size 640x480 with 1 Axes>"
      ]
     },
     "metadata": {},
     "output_type": "display_data"
    }
   ],
   "source": [
    "plt.plot(scaled_train)"
   ]
  },
  {
   "cell_type": "code",
   "execution_count": 246,
   "id": "499091c0",
   "metadata": {},
   "outputs": [],
   "source": [
    "n_input = 5\n",
    "n_features = 1\n",
    "generator = TimeseriesGenerator(scaled_train, scaled_train, length=n_input, batch_size=1)"
   ]
  },
  {
   "cell_type": "code",
   "execution_count": 247,
   "id": "7428af59",
   "metadata": {},
   "outputs": [],
   "source": [
    "model = Sequential()\n",
    "model.add(LSTM(100, activation='relu', input_shape=(n_input, n_features)))\n",
    "model.add(Dense(1))\n",
    "model.compile(optimizer='adam', loss='mse')"
   ]
  },
  {
   "cell_type": "code",
   "execution_count": 248,
   "id": "714e630e",
   "metadata": {},
   "outputs": [
    {
     "name": "stdout",
     "output_type": "stream",
     "text": [
      "Model: \"sequential_9\"\n",
      "_________________________________________________________________\n",
      " Layer (type)                Output Shape              Param #   \n",
      "=================================================================\n",
      " lstm_9 (LSTM)               (None, 100)               40800     \n",
      "                                                                 \n",
      " dense_9 (Dense)             (None, 1)                 101       \n",
      "                                                                 \n",
      "=================================================================\n",
      "Total params: 40,901\n",
      "Trainable params: 40,901\n",
      "Non-trainable params: 0\n",
      "_________________________________________________________________\n"
     ]
    }
   ],
   "source": [
    "model.summary()"
   ]
  },
  {
   "cell_type": "code",
   "execution_count": 249,
   "id": "9b20c1f3",
   "metadata": {},
   "outputs": [
    {
     "name": "stdout",
     "output_type": "stream",
     "text": [
      "Epoch 1/50\n",
      "4697/4697 [==============================] - 9s 2ms/step - loss: 0.0041\n",
      "Epoch 2/50\n",
      "4697/4697 [==============================] - 8s 2ms/step - loss: 0.0013\n",
      "Epoch 3/50\n",
      "4697/4697 [==============================] - 8s 2ms/step - loss: 0.0011\n",
      "Epoch 4/50\n",
      "4697/4697 [==============================] - 8s 2ms/step - loss: 0.0011\n",
      "Epoch 5/50\n",
      "4697/4697 [==============================] - 8s 2ms/step - loss: 0.0010\n",
      "Epoch 6/50\n",
      "4697/4697 [==============================] - 9s 2ms/step - loss: 9.9084e-04\n",
      "Epoch 7/50\n",
      "4697/4697 [==============================] - 9s 2ms/step - loss: 9.9659e-04\n",
      "Epoch 8/50\n",
      "4697/4697 [==============================] - 9s 2ms/step - loss: 9.6303e-04\n",
      "Epoch 9/50\n",
      "4697/4697 [==============================] - 9s 2ms/step - loss: 9.6821e-04\n",
      "Epoch 10/50\n",
      "4697/4697 [==============================] - 9s 2ms/step - loss: 9.4941e-04\n",
      "Epoch 11/50\n",
      "4697/4697 [==============================] - 9s 2ms/step - loss: 9.3725e-04\n",
      "Epoch 12/50\n",
      "4697/4697 [==============================] - 9s 2ms/step - loss: 9.3701e-04\n",
      "Epoch 13/50\n",
      "4697/4697 [==============================] - 9s 2ms/step - loss: 9.5066e-04\n",
      "Epoch 14/50\n",
      "4697/4697 [==============================] - 9s 2ms/step - loss: 9.3852e-04\n",
      "Epoch 15/50\n",
      "4697/4697 [==============================] - 9s 2ms/step - loss: 9.2928e-04\n",
      "Epoch 16/50\n",
      "4697/4697 [==============================] - 9s 2ms/step - loss: 9.2180e-04\n",
      "Epoch 17/50\n",
      "4697/4697 [==============================] - 9s 2ms/step - loss: 9.3069e-04\n",
      "Epoch 18/50\n",
      "4697/4697 [==============================] - 9s 2ms/step - loss: 9.3144e-04\n",
      "Epoch 19/50\n",
      "4697/4697 [==============================] - 9s 2ms/step - loss: 9.2107e-04\n",
      "Epoch 20/50\n",
      "4697/4697 [==============================] - 9s 2ms/step - loss: 9.0926e-04\n",
      "Epoch 21/50\n",
      "4697/4697 [==============================] - 9s 2ms/step - loss: 9.1816e-04\n",
      "Epoch 22/50\n",
      "4697/4697 [==============================] - 9s 2ms/step - loss: 9.0399e-04\n",
      "Epoch 23/50\n",
      "4697/4697 [==============================] - 9s 2ms/step - loss: 9.0845e-04\n",
      "Epoch 24/50\n",
      "4697/4697 [==============================] - 9s 2ms/step - loss: 9.1272e-04\n",
      "Epoch 25/50\n",
      "4697/4697 [==============================] - 9s 2ms/step - loss: 9.1632e-04\n",
      "Epoch 26/50\n",
      "4697/4697 [==============================] - 9s 2ms/step - loss: 9.0482e-04\n",
      "Epoch 27/50\n",
      "4697/4697 [==============================] - 9s 2ms/step - loss: 8.9144e-04\n",
      "Epoch 28/50\n",
      "4697/4697 [==============================] - 9s 2ms/step - loss: 9.0733e-04\n",
      "Epoch 29/50\n",
      "4697/4697 [==============================] - 9s 2ms/step - loss: 9.0562e-04\n",
      "Epoch 30/50\n",
      "4697/4697 [==============================] - 9s 2ms/step - loss: 9.0769e-04\n",
      "Epoch 31/50\n",
      "4697/4697 [==============================] - 9s 2ms/step - loss: 9.0517e-04\n",
      "Epoch 32/50\n",
      "4697/4697 [==============================] - 9s 2ms/step - loss: 9.0137e-04\n",
      "Epoch 33/50\n",
      "4697/4697 [==============================] - 9s 2ms/step - loss: 8.9391e-04\n",
      "Epoch 34/50\n",
      "4697/4697 [==============================] - 9s 2ms/step - loss: 8.9793e-04\n",
      "Epoch 35/50\n",
      "4697/4697 [==============================] - 9s 2ms/step - loss: 8.9027e-04\n",
      "Epoch 36/50\n",
      "4697/4697 [==============================] - 9s 2ms/step - loss: 8.9444e-04\n",
      "Epoch 37/50\n",
      "4697/4697 [==============================] - 9s 2ms/step - loss: 8.7354e-04\n",
      "Epoch 38/50\n",
      "4697/4697 [==============================] - 9s 2ms/step - loss: 8.9767e-04\n",
      "Epoch 39/50\n",
      "4697/4697 [==============================] - 9s 2ms/step - loss: 8.9231e-04\n",
      "Epoch 40/50\n",
      "4697/4697 [==============================] - 9s 2ms/step - loss: 8.8468e-04\n",
      "Epoch 41/50\n",
      "4697/4697 [==============================] - 9s 2ms/step - loss: 8.8586e-04\n",
      "Epoch 42/50\n",
      "4697/4697 [==============================] - 9s 2ms/step - loss: 8.9538e-04\n",
      "Epoch 43/50\n",
      "4697/4697 [==============================] - 9s 2ms/step - loss: 8.9296e-04\n",
      "Epoch 44/50\n",
      "4697/4697 [==============================] - 9s 2ms/step - loss: 9.0039e-04\n",
      "Epoch 45/50\n",
      "4697/4697 [==============================] - 10s 2ms/step - loss: 8.7668e-04\n",
      "Epoch 46/50\n",
      "4697/4697 [==============================] - 10s 2ms/step - loss: 8.8909e-04\n",
      "Epoch 47/50\n",
      "4697/4697 [==============================] - 12s 2ms/step - loss: 8.9261e-04\n",
      "Epoch 48/50\n",
      "4697/4697 [==============================] - 13s 3ms/step - loss: 8.9252e-04\n",
      "Epoch 49/50\n",
      "4697/4697 [==============================] - 11s 2ms/step - loss: 8.8627e-04\n",
      "Epoch 50/50\n",
      "4697/4697 [==============================] - 11s 2ms/step - loss: 8.8284e-04\n"
     ]
    },
    {
     "data": {
      "text/plain": [
       "<keras.callbacks.History at 0x7f3aed86bd90>"
      ]
     },
     "execution_count": 249,
     "metadata": {},
     "output_type": "execute_result"
    }
   ],
   "source": [
    "model.fit(generator,epochs=50)"
   ]
  },
  {
   "cell_type": "code",
   "execution_count": 250,
   "id": "85f5a197",
   "metadata": {},
   "outputs": [
    {
     "data": {
      "text/plain": [
       "[<matplotlib.lines.Line2D at 0x7f3aecdc5360>]"
      ]
     },
     "execution_count": 250,
     "metadata": {},
     "output_type": "execute_result"
    },
    {
     "data": {
      "image/png": "[encoded data removed]",
      "text/plain": [
       "<Figure size 640x480 with 1 Axes>"
      ]
     },
     "metadata": {},
     "output_type": "display_data"
    }
   ],
   "source": [
    "loss_per_epoch = model.history.history['loss']\n",
    "plt.plot(range(len(loss_per_epoch)),loss_per_epoch)"
   ]
  },
  {
   "cell_type": "code",
   "execution_count": 251,
   "id": "1278f05a",
   "metadata": {},
   "outputs": [
    {
     "data": {
      "application/vnd.jupyter.widget-view+json": {
       "model_id": "77c22c05c75045dda4ce548dfc9b0e58",
       "version_major": 2,
       "version_minor": 0
      },
      "text/plain": [
       "  0%|          | 0/6713 [00:00<?, ?it/s]"
      ]
     },
     "metadata": {},
     "output_type": "display_data"
    }
   ],
   "source": [
    "test_predictions = []\n",
    "\n",
    "first_eval_batch = scaled_train[0:n_input]\n",
    "current_batch = first_eval_batch.reshape((1, n_input, n_features))\n",
    "\n",
    "for i in tqdm(range(n_input, len(scaled_y))):\n",
    "    \n",
    "    # get the prediction value for the first batch\n",
    "    current_pred = model.predict(current_batch, verbose=0)[0]\n",
    "    \n",
    "    # append the prediction into the array\n",
    "    test_predictions.append(current_pred) \n",
    "    \n",
    "    # use the prediction to update the batch and remove the first value\n",
    "    current_batch = np.append(current_batch[:,1:,:],[[scaled_y[i]]],axis=1)"
   ]
  },
  {
   "cell_type": "code",
   "execution_count": 252,
   "id": "93b81fd1",
   "metadata": {},
   "outputs": [
    {
     "data": {
      "text/plain": [
       "6713"
      ]
     },
     "execution_count": 252,
     "metadata": {},
     "output_type": "execute_result"
    }
   ],
   "source": [
    "len(test_predictions)"
   ]
  },
  {
   "cell_type": "code",
   "execution_count": 253,
   "id": "c670c836",
   "metadata": {},
   "outputs": [
    {
     "data": {
      "text/plain": [
       "4702    46.437208\n",
       "4703    46.378973\n",
       "4704    46.320738\n",
       "4705    46.262503\n",
       "4706    46.204268\n",
       "          ...    \n",
       "6713    47.019560\n",
       "6714    46.961325\n",
       "6715    46.903090\n",
       "6716    47.019560\n",
       "6717    46.961325\n",
       "Name: Temperature, Length: 2016, dtype: float64"
      ]
     },
     "execution_count": 253,
     "metadata": {},
     "output_type": "execute_result"
    }
   ],
   "source": [
    "y_test"
   ]
  },
  {
   "cell_type": "code",
   "execution_count": 254,
   "id": "462b48a6",
   "metadata": {},
   "outputs": [
    {
     "data": {
      "text/html": [
       "<div>\n",
       "<style scoped>\n",
       "    .dataframe tbody tr th:only-of-type {\n",
       "        vertical-align: middle;\n",
       "    }\n",
       "\n",
       "    .dataframe tbody tr th {\n",
       "        vertical-align: top;\n",
       "    }\n",
       "\n",
       "    .dataframe thead th {\n",
       "        text-align: right;\n",
       "    }\n",
       "</style>\n",
       "<table border=\"1\" class=\"dataframe\">\n",
       "  <thead>\n",
       "    <tr style=\"text-align: right;\">\n",
       "      <th></th>\n",
       "      <th>Temperature</th>\n",
       "      <th>Prediction</th>\n",
       "    </tr>\n",
       "    <tr>\n",
       "      <th>Hours</th>\n",
       "      <th></th>\n",
       "      <th></th>\n",
       "    </tr>\n",
       "  </thead>\n",
       "  <tbody>\n",
       "    <tr>\n",
       "      <th>0.014642</th>\n",
       "      <td>15.223161</td>\n",
       "      <td>15.434782</td>\n",
       "    </tr>\n",
       "    <tr>\n",
       "      <th>0.014642</th>\n",
       "      <td>15.164926</td>\n",
       "      <td>15.276239</td>\n",
       "    </tr>\n",
       "    <tr>\n",
       "      <th>0.021949</th>\n",
       "      <td>15.630807</td>\n",
       "      <td>15.266090</td>\n",
       "    </tr>\n",
       "    <tr>\n",
       "      <th>0.021949</th>\n",
       "      <td>15.572572</td>\n",
       "      <td>15.493595</td>\n",
       "    </tr>\n",
       "    <tr>\n",
       "      <th>0.021949</th>\n",
       "      <td>15.514337</td>\n",
       "      <td>15.418784</td>\n",
       "    </tr>\n",
       "    <tr>\n",
       "      <th>...</th>\n",
       "      <td>...</td>\n",
       "      <td>...</td>\n",
       "    </tr>\n",
       "    <tr>\n",
       "      <th>2.944779</th>\n",
       "      <td>47.019560</td>\n",
       "      <td>46.695961</td>\n",
       "    </tr>\n",
       "    <tr>\n",
       "      <th>2.944779</th>\n",
       "      <td>46.961325</td>\n",
       "      <td>46.900880</td>\n",
       "    </tr>\n",
       "    <tr>\n",
       "      <th>2.944779</th>\n",
       "      <td>46.903090</td>\n",
       "      <td>46.829051</td>\n",
       "    </tr>\n",
       "    <tr>\n",
       "      <th>2.952086</th>\n",
       "      <td>47.019560</td>\n",
       "      <td>46.768786</td>\n",
       "    </tr>\n",
       "    <tr>\n",
       "      <th>2.952086</th>\n",
       "      <td>46.961325</td>\n",
       "      <td>46.886009</td>\n",
       "    </tr>\n",
       "  </tbody>\n",
       "</table>\n",
       "<p>6713 rows × 2 columns</p>\n",
       "</div>"
      ],
      "text/plain": [
       "          Temperature  Prediction\n",
       "Hours                            \n",
       "0.014642    15.223161   15.434782\n",
       "0.014642    15.164926   15.276239\n",
       "0.021949    15.630807   15.266090\n",
       "0.021949    15.572572   15.493595\n",
       "0.021949    15.514337   15.418784\n",
       "...               ...         ...\n",
       "2.944779    47.019560   46.695961\n",
       "2.944779    46.961325   46.900880\n",
       "2.944779    46.903090   46.829051\n",
       "2.952086    47.019560   46.768786\n",
       "2.952086    46.961325   46.886009\n",
       "\n",
       "[6713 rows x 2 columns]"
      ]
     },
     "execution_count": 254,
     "metadata": {},
     "output_type": "execute_result"
    }
   ],
   "source": [
    "true_predictions = scaler.inverse_transform(test_predictions)\n",
    "\n",
    "df = pd.DataFrame({'Hours': X[n_input:], 'Temperature': y[n_input:], 'Prediction': true_predictions.flatten()}).set_index('Hours')\n",
    "df"
   ]
  },
  {
   "cell_type": "code",
   "execution_count": 255,
   "id": "3208bf55",
   "metadata": {},
   "outputs": [
    {
     "data": {
      "text/plain": [
       "array([[15.43478203],\n",
       "       [15.27623903],\n",
       "       [15.26609   ],\n",
       "       ...,\n",
       "       [46.82905061],\n",
       "       [46.76878602],\n",
       "       [46.88600926]])"
      ]
     },
     "execution_count": 255,
     "metadata": {},
     "output_type": "execute_result"
    }
   ],
   "source": [
    "true_predictions"
   ]
  },
  {
   "cell_type": "code",
   "execution_count": 256,
   "id": "26c052e9",
   "metadata": {},
   "outputs": [
    {
     "data": {
      "text/plain": [
       "[<matplotlib.lines.Line2D at 0x7f3abffa36d0>]"
      ]
     },
     "execution_count": 256,
     "metadata": {},
     "output_type": "execute_result"
    },
    {
     "data": {
      "image/png": "[encoded data removed]",
      "text/plain": [
       "<Figure size 640x480 with 1 Axes>"
      ]
     },
     "metadata": {},
     "output_type": "display_data"
    }
   ],
   "source": [
    "plt.plot(df['Temperature'], 'bo')\n",
    "plt.plot(df['Prediction'], 'ro')"
   ]
  },
  {
   "cell_type": "code",
   "execution_count": 257,
   "id": "29c7fb01",
   "metadata": {},
   "outputs": [
    {
     "name": "stdout",
     "output_type": "stream",
     "text": [
      "0.6027186750031768\n"
     ]
    }
   ],
   "source": [
    "N = len(y)\n",
    "mse_error = (1/ N) * sum((y[n_input:] - true_predictions.flatten()) ** 2)\n",
    "rmse_error = np.sqrt(mse_error) \n",
    "mae_error = (1/ N) * sum(abs(y[n_input:] - true_predictions.flatten()))\n",
    "print(mse_error)"
   ]
  },
  {
   "cell_type": "code",
   "execution_count": 258,
   "id": "d22e6109",
   "metadata": {},
   "outputs": [
    {
     "name": "stdout",
     "output_type": "stream",
     "text": [
      "0.7763495829864127\n"
     ]
    }
   ],
   "source": [
    "print(rmse_error)"
   ]
  },
  {
   "cell_type": "code",
   "execution_count": 259,
   "id": "c89c2b55",
   "metadata": {},
   "outputs": [
    {
     "name": "stdout",
     "output_type": "stream",
     "text": [
      "0.17560543306084248\n"
     ]
    }
   ],
   "source": [
    "print(mae_error)"
   ]
  },
  {
   "cell_type": "code",
   "execution_count": 260,
   "id": "240e198e",
   "metadata": {},
   "outputs": [
    {
     "name": "stdout",
     "output_type": "stream",
     "text": [
      "0.9930983150063726\n"
     ]
    }
   ],
   "source": [
    "u = ((y[n_input:] - true_predictions.flatten())** 2).sum()\n",
    "v = ((y[n_input:] - y[n_input:].mean())** 2).sum()\n",
    "r2_error = 1-(u/v)\n",
    "print(r2_error)"
   ]
  },
  {
   "cell_type": "code",
   "execution_count": 261,
   "id": "c9003437",
   "metadata": {},
   "outputs": [
    {
     "data": {
      "image/png": "[encoded data removed]",
      "text/plain": [
       "<Figure size 640x480 with 1 Axes>"
      ]
     },
     "metadata": {},
     "output_type": "display_data"
    }
   ],
   "source": [
    "plt.ylabel(\"Predicted\")\n",
    "plt.xlabel(\"Actual\")\n",
    "\n",
    "plt.scatter(y[n_input:],true_predictions.flatten(),color='green', label='Predicted Values')\n",
    "plt.axline([10, 10], [35, 35],label='Actual Values')\n",
    "plt.legend(loc =\"upper left\")\n",
    "plt.show()"
   ]
  },
  {
   "cell_type": "code",
   "execution_count": 262,
   "id": "cb754c50",
   "metadata": {},
   "outputs": [],
   "source": [
    "subset = np.random.choice(len(X)-n_input, 150)"
   ]
  },
  {
   "cell_type": "code",
   "execution_count": 263,
   "id": "2ed67f9e",
   "metadata": {},
   "outputs": [
    {
     "data": {
      "image/png": "[encoded data removed]",
      "text/plain": [
       "<Figure size 640x480 with 1 Axes>"
      ]
     },
     "metadata": {},
     "output_type": "display_data"
    }
   ],
   "source": [
    "plt.ylabel(\"Temperature\")\n",
    "plt.xlabel(\"Hours\")\n",
    "\n",
    "plt.plot(X[n_input:], true_predictions.flatten(), marker='o', color='g',markersize=1, linestyle=\"-\", label='Predicted Values')\n",
    "plt.plot(X[subset + n_input], y[subset + n_input], marker='o', color='b',linestyle=\"None\",markersize=3, label='Actual Values(reference)')\n",
    "plt.legend(loc =\"lower right\")\n",
    "plt.show()"
   ]
  },
  {
   "cell_type": "code",
   "execution_count": null,
   "id": "e102813f",
   "metadata": {},
   "outputs": [],
   "source": []
  }
 ],
 "metadata": {
  "kernelspec": {
   "display_name": "Python 3 (ipykernel)",
   "language": "python",
   "name": "python3"
  },
  "language_info": {
   "codemirror_mode": {
    "name": "ipython",
    "version": 3
   },
   "file_extension": ".py",
   "mimetype": "text/x-python",
   "name": "python",
   "nbconvert_exporter": "python",
   "pygments_lexer": "ipython3",
   "version": "3.10.6"
  }
 },
 "nbformat": 4,
 "nbformat_minor": 5
}
